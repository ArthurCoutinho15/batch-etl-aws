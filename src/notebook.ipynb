{
 "cells": [
  {
   "cell_type": "code",
   "execution_count": 15,
   "id": "83acfb6e",
   "metadata": {},
   "outputs": [],
   "source": [
    "from pyspark.sql import SparkSession, DataFrame\n",
    "from pyspark.sql.functions import explode, col\n",
    "spark = SparkSession.builder\\\n",
    "            .appName(\"teste\")\\\n",
    "            .master(\"local[*]\")\\\n",
    "            .getOrCreate()"
   ]
  },
  {
   "cell_type": "code",
   "execution_count": null,
   "id": "dd3cca00",
   "metadata": {},
   "outputs": [],
   "source": [
    "amazon = spark.read.json(r'/home/arthur/Projetos/data_batch_etl/data/amazon')"
   ]
  },
  {
   "cell_type": "code",
   "execution_count": 9,
   "id": "1963eb65",
   "metadata": {},
   "outputs": [],
   "source": [
    "df = df.withColumn(\"values\", explode(col(\"values\")))"
   ]
  },
  {
   "cell_type": "code",
   "execution_count": 11,
   "id": "d238bf0d",
   "metadata": {},
   "outputs": [
    {
     "name": "stdout",
     "output_type": "stream",
     "text": [
      "+---------------------------------------------------------------+------+---------------------------------------------------------------------+\n",
      "|meta                                                           |status|values                                                               |\n",
      "+---------------------------------------------------------------+------+---------------------------------------------------------------------+\n",
      "|{USD, NASDAQ, America/New_York, 1day, XNGS, AAPL, Common Stock}|ok    |{232.14000, 2025-08-29, 233.38000, 231.37000, 232.50999, 39389400}   |\n",
      "|{USD, NASDAQ, America/New_York, 1day, XNGS, AAPL, Common Stock}|ok    |{232.56000, 2025-08-28, 233.41000, 229.34000, 230.82001, 38074700}   |\n",
      "|{USD, NASDAQ, America/New_York, 1day, XNGS, AAPL, Common Stock}|ok    |{230.49001, 2025-08-27, 230.89999, 228.25999, 228.61000, 31259500}   |\n",
      "|{USD, NASDAQ, America/New_York, 1day, XNGS, AAPL, Common Stock}|ok    |{229.31000, 2025-08-26, 229.49001, 224.69000, 226.87000, 54575100}   |\n",
      "|{USD, NASDAQ, America/New_York, 1day, XNGS, AAPL, Common Stock}|ok    |{227.16000, 2025-08-25, 229.30000, 226.23000, 226.48000, 30983100}   |\n",
      "|{USD, NASDAQ, America/New_York, 1day, XNGS, AAPL, Common Stock}|ok    |{227.75999, 2025-08-22, 229.089996, 225.41000, 226.17000, 42477800}  |\n",
      "|{USD, NASDAQ, America/New_York, 1day, XNGS, AAPL, Common Stock}|ok    |{224.89999, 2025-08-21, 226.52000, 223.78000, 226.27000, 30621200}   |\n",
      "|{USD, NASDAQ, America/New_York, 1day, XNGS, AAPL, Common Stock}|ok    |{226.0099945, 2025-08-20, 230.47000, 225.77000, 229.98000, 42263900} |\n",
      "|{USD, NASDAQ, America/New_York, 1day, XNGS, AAPL, Common Stock}|ok    |{230.56000, 2025-08-19, 232.87000, 229.35001, 231.28000, 39402600}   |\n",
      "|{USD, NASDAQ, America/New_York, 1day, XNGS, AAPL, Common Stock}|ok    |{230.89000, 2025-08-18, 233.12000, 230.11000, 231.70000, 37476200}   |\n",
      "|{USD, NASDAQ, America/New_York, 1day, XNGS, AAPL, Common Stock}|ok    |{231.59000, 2025-08-15, 234.28000, 229.34000, 234, 56038700}         |\n",
      "|{USD, NASDAQ, America/New_York, 1day, XNGS, AAPL, Common Stock}|ok    |{232.78000, 2025-08-14, 235.12000, 230.85001, 234.059998, 51916300}  |\n",
      "|{USD, NASDAQ, America/New_York, 1day, XNGS, AAPL, Common Stock}|ok    |{233.33000, 2025-08-13, 235, 230.42999, 231.070007, 69878500}        |\n",
      "|{USD, NASDAQ, America/New_York, 1day, XNGS, AAPL, Common Stock}|ok    |{229.64999, 2025-08-12, 230.80000, 227.070007, 228.0099945, 55626200}|\n",
      "|{USD, NASDAQ, America/New_York, 1day, XNGS, AAPL, Common Stock}|ok    |{227.17999, 2025-08-11, 229.56000, 224.75999, 227.92000, 61806100}   |\n",
      "|{USD, NASDAQ, America/New_York, 1day, XNGS, AAPL, Common Stock}|ok    |{229.35001, 2025-08-08, 231, 219.25, 220.83000, 113854000}           |\n",
      "|{USD, NASDAQ, America/New_York, 1day, XNGS, AAPL, Common Stock}|ok    |{220.029999, 2025-08-07, 220.85001, 216.58000, 218.88000, 90224800}  |\n",
      "|{USD, NASDAQ, America/New_York, 1day, XNGS, AAPL, Common Stock}|ok    |{213.25, 2025-08-06, 215.38000, 205.59000, 205.63000, 108483100}     |\n",
      "|{USD, NASDAQ, America/New_York, 1day, XNGS, AAPL, Common Stock}|ok    |{202.92000, 2025-08-05, 205.34000, 202.16000, 203.39999, 44155100}   |\n",
      "|{USD, NASDAQ, America/New_York, 1day, XNGS, AAPL, Common Stock}|ok    |{203.35001, 2025-08-04, 207.88000, 201.67999, 204.50999, 75109300}   |\n",
      "+---------------------------------------------------------------+------+---------------------------------------------------------------------+\n",
      "only showing top 20 rows\n"
     ]
    }
   ],
   "source": [
    "df.show(truncate=False)"
   ]
  },
  {
   "cell_type": "code",
   "execution_count": 13,
   "id": "d8b1ce27",
   "metadata": {},
   "outputs": [
    {
     "name": "stdout",
     "output_type": "stream",
     "text": [
      "+------+--------+\n",
      "|symbol|currency|\n",
      "+------+--------+\n",
      "|  AAPL|     USD|\n",
      "|  AAPL|     USD|\n",
      "|  AAPL|     USD|\n",
      "|  AAPL|     USD|\n",
      "|  AAPL|     USD|\n",
      "|  AAPL|     USD|\n",
      "|  AAPL|     USD|\n",
      "|  AAPL|     USD|\n",
      "|  AAPL|     USD|\n",
      "|  AAPL|     USD|\n",
      "|  AAPL|     USD|\n",
      "|  AAPL|     USD|\n",
      "|  AAPL|     USD|\n",
      "|  AAPL|     USD|\n",
      "|  AAPL|     USD|\n",
      "|  AAPL|     USD|\n",
      "|  AAPL|     USD|\n",
      "|  AAPL|     USD|\n",
      "|  AAPL|     USD|\n",
      "|  AAPL|     USD|\n",
      "+------+--------+\n",
      "only showing top 20 rows\n"
     ]
    }
   ],
   "source": [
    "df.select(\"meta.symbol\", \"meta.currency\").show()"
   ]
  }
 ],
 "metadata": {
  "kernelspec": {
   "display_name": "venv",
   "language": "python",
   "name": "python3"
  },
  "language_info": {
   "codemirror_mode": {
    "name": "ipython",
    "version": 3
   },
   "file_extension": ".py",
   "mimetype": "text/x-python",
   "name": "python",
   "nbconvert_exporter": "python",
   "pygments_lexer": "ipython3",
   "version": "3.11.11"
  }
 },
 "nbformat": 4,
 "nbformat_minor": 5
}
