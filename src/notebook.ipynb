{
 "cells": [
  {
   "cell_type": "code",
   "execution_count": 1,
   "id": "83acfb6e",
   "metadata": {},
   "outputs": [
    {
     "name": "stderr",
     "output_type": "stream",
     "text": [
      "WARNING: Using incubator modules: jdk.incubator.vector\n",
      "Using Spark's default log4j profile: org/apache/spark/log4j2-defaults.properties\n",
      "25/08/29 19:33:40 WARN Utils: Your hostname, PcArthur, resolves to a loopback address: 127.0.1.1; using 172.23.223.44 instead (on interface eth0)\n",
      "25/08/29 19:33:40 WARN Utils: Set SPARK_LOCAL_IP if you need to bind to another address\n",
      "Using Spark's default log4j profile: org/apache/spark/log4j2-defaults.properties\n",
      "Setting default log level to \"WARN\".\n",
      "To adjust logging level use sc.setLogLevel(newLevel). For SparkR, use setLogLevel(newLevel).\n",
      "25/08/29 19:33:42 WARN NativeCodeLoader: Unable to load native-hadoop library for your platform... using builtin-java classes where applicable\n"
     ]
    }
   ],
   "source": [
    "from pyspark.sql import SparkSession, DataFrame\n",
    "spark = SparkSession.builder\\\n",
    "            .appName(\"teste\")\\\n",
    "            .master(\"local[*]\")\\\n",
    "            .getOrCreate()"
   ]
  },
  {
   "cell_type": "code",
   "execution_count": 7,
   "id": "d2c5c05a",
   "metadata": {},
   "outputs": [],
   "source": [
    "df = spark.read.json(\"/home/arthur/Projetos/data_batch_etl/data/dolar\")"
   ]
  },
  {
   "cell_type": "code",
   "execution_count": 10,
   "id": "6de4f429",
   "metadata": {},
   "outputs": [
    {
     "name": "stdout",
     "output_type": "stream",
     "text": [
      "root\n",
      " |-- @odata.context: string (nullable = true)\n",
      " |-- value: array (nullable = true)\n",
      " |    |-- element: struct (containsNull = true)\n",
      " |    |    |-- cotacaoCompra: double (nullable = true)\n",
      " |    |    |-- cotacaoVenda: double (nullable = true)\n",
      " |    |    |-- dataHoraCotacao: string (nullable = true)\n",
      "\n"
     ]
    }
   ],
   "source": [
    "df.printSchema()"
   ]
  },
  {
   "cell_type": "code",
   "execution_count": 11,
   "id": "78af36db",
   "metadata": {},
   "outputs": [],
   "source": [
    "from pyspark.sql.functions import explode, col\n",
    "\n",
    "df = df.withColumn(\"value\", explode(col(\"value\")) )"
   ]
  },
  {
   "cell_type": "code",
   "execution_count": 12,
   "id": "3cfbb82d",
   "metadata": {},
   "outputs": [
    {
     "name": "stdout",
     "output_type": "stream",
     "text": [
      "+--------------------+--------------------+\n",
      "|      @odata.context|               value|\n",
      "+--------------------+--------------------+\n",
      "|https://was-p.bcn...|{6.208, 6.2086, 2...|\n",
      "|https://was-p.bcn...|{6.1557, 6.1563, ...|\n",
      "|https://was-p.bcn...|{6.1113, 6.1119, ...|\n",
      "|https://was-p.bcn...|{6.0735, 6.0741, ...|\n",
      "|https://was-p.bcn...|{6.1315, 6.1321, ...|\n",
      "|https://was-p.bcn...|{6.089, 6.0896, 2...|\n",
      "|https://was-p.bcn...|{6.0959, 6.0965, ...|\n",
      "|https://was-p.bcn...|{6.1073, 6.1079, ...|\n",
      "|https://was-p.bcn...|{6.0665, 6.0671, ...|\n",
      "|https://was-p.bcn...|{6.0371, 6.0377, ...|\n",
      "|https://was-p.bcn...|{6.0316, 6.0322, ...|\n",
      "|https://was-p.bcn...|{6.0603, 6.0609, ...|\n",
      "|https://was-p.bcn...|{6.0492, 6.0498, ...|\n",
      "|https://was-p.bcn...|{6.0434, 6.044, 2...|\n",
      "|https://was-p.bcn...|{5.9668, 5.9674, ...|\n",
      "|https://was-p.bcn...|{5.9393, 5.9399, ...|\n",
      "|https://was-p.bcn...|{5.8919, 5.8925, ...|\n",
      "|https://was-p.bcn...|{5.9266, 5.9272, ...|\n",
      "|https://was-p.bcn...|{5.8924, 5.893, 2...|\n",
      "|https://was-p.bcn...|{5.859, 5.8596, 2...|\n",
      "+--------------------+--------------------+\n",
      "only showing top 20 rows\n"
     ]
    }
   ],
   "source": [
    "df.show()"
   ]
  },
  {
   "cell_type": "code",
   "execution_count": 13,
   "id": "f911cb50",
   "metadata": {},
   "outputs": [],
   "source": [
    "df = df.select(col(\"value.cotacaoCompra\").alias(\"cotacaoCompra\"),col(\"value.cotacaoVenda\").alias(\"cotacaoVenda\"),  col(\"value.dataHoraCotacao\").alias(\"dataHoraCotacao\") )"
   ]
  },
  {
   "cell_type": "code",
   "execution_count": 14,
   "id": "51bcd26b",
   "metadata": {},
   "outputs": [
    {
     "name": "stdout",
     "output_type": "stream",
     "text": [
      "+-------------+------------+--------------------+\n",
      "|cotacaoCompra|cotacaoVenda|     dataHoraCotacao|\n",
      "+-------------+------------+--------------------+\n",
      "|        6.208|      6.2086|2025-01-02 13:09:...|\n",
      "|       6.1557|      6.1563|2025-01-03 13:07:...|\n",
      "|       6.1113|      6.1119|2025-01-06 13:06:...|\n",
      "|       6.0735|      6.0741|2025-01-07 13:03:...|\n",
      "|       6.1315|      6.1321|2025-01-08 13:08:...|\n",
      "|        6.089|      6.0896|2025-01-09 13:03:...|\n",
      "|       6.0959|      6.0965|2025-01-10 13:04:...|\n",
      "|       6.1073|      6.1079|2025-01-13 13:03:...|\n",
      "|       6.0665|      6.0671|2025-01-14 13:07:...|\n",
      "|       6.0371|      6.0377|2025-01-15 13:06:...|\n",
      "|       6.0316|      6.0322|2025-01-16 13:06:...|\n",
      "|       6.0603|      6.0609|2025-01-17 13:11:...|\n",
      "|       6.0492|      6.0498|2025-01-20 13:07:...|\n",
      "|       6.0434|       6.044|2025-01-21 13:11:...|\n",
      "|       5.9668|      5.9674|2025-01-22 13:03:...|\n",
      "|       5.9393|      5.9399|2025-01-23 13:08:...|\n",
      "|       5.8919|      5.8925|2025-01-24 13:03:...|\n",
      "|       5.9266|      5.9272|2025-01-27 13:07:...|\n",
      "|       5.8924|       5.893|2025-01-28 13:08:...|\n",
      "|        5.859|      5.8596|2025-01-29 13:06:...|\n",
      "+-------------+------------+--------------------+\n",
      "only showing top 20 rows\n"
     ]
    }
   ],
   "source": [
    "df.show()"
   ]
  }
 ],
 "metadata": {
  "kernelspec": {
   "display_name": "venv",
   "language": "python",
   "name": "python3"
  },
  "language_info": {
   "codemirror_mode": {
    "name": "ipython",
    "version": 3
   },
   "file_extension": ".py",
   "mimetype": "text/x-python",
   "name": "python",
   "nbconvert_exporter": "python",
   "pygments_lexer": "ipython3",
   "version": "3.11.11"
  }
 },
 "nbformat": 4,
 "nbformat_minor": 5
}
